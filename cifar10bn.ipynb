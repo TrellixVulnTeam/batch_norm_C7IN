{
 "cells": [
  {
   "cell_type": "code",
   "execution_count": 1,
   "metadata": {},
   "outputs": [],
   "source": [
    "import numpy as np\n",
    "import tensorflow as tf\n",
    "import cifar\n",
    "import matplotlib.pyplot as plt"
   ]
  },
  {
   "cell_type": "markdown",
   "metadata": {},
   "source": [
    "## Download and extract the dataset"
   ]
  },
  {
   "cell_type": "code",
   "execution_count": 2,
   "metadata": {},
   "outputs": [],
   "source": [
    "cifar.prepare_cifar_10()\n",
    "cifar10_labels = cifar.cifar10_labels()"
   ]
  },
  {
   "cell_type": "markdown",
   "metadata": {},
   "source": [
    "## Define the model function\n",
    "Here we have defined a common model function which runs for both batch_normalized and non-batch_normalized networks.\n",
    "\n",
    "#### Batch Norm before or after activation\n",
    "This is a long-standing debate about Batch Normalization. To put batch norm before or after activation. I have chosen to put it after the activation. And more specifically, at the input of each layer. This makes more sense, since batch norm is introduced to reduce the covariant shift in input of each layer."
   ]
  },
  {
   "cell_type": "code",
   "execution_count": 3,
   "metadata": {},
   "outputs": [],
   "source": [
    "def model(features, labels, mode, params):\n",
    "    layer = features['images']\n",
    "    if params[\"print_shapes\"]:\n",
    "        print(layer.shape)\n",
    "\n",
    "    for filt, kern, stride in zip(params['filters'], params['kern'], params['strides']):\n",
    "        if params['with_bn']:\n",
    "            layer = tf.layers.batch_normalization(\n",
    "                layer, training=mode == tf.estimator.ModeKeys.TRAIN)\n",
    "        layer = tf.layers.conv2d(\n",
    "            layer, filt, kern, stride, activation=tf.nn.relu)\n",
    "        if params[\"print_shapes\"]: \n",
    "            print(layer.shape)\n",
    "\n",
    "    layer = tf.layers.flatten(layer)\n",
    "    if params[\"print_shapes\"]:\n",
    "        print(layer.shape)\n",
    "\n",
    "    for units in params['dense']:\n",
    "        if params['with_bn']:\n",
    "            layer = tf.layers.batch_normalization(\n",
    "                layer, training=mode == tf.estimator.ModeKeys.TRAIN)\n",
    "        layer = tf.layers.dense(\n",
    "            layer, units, activation=tf.nn.relu)\n",
    "        if params[\"print_shapes\"]:\n",
    "            print(layer.shape)\n",
    "\n",
    "    if params['with_bn']:\n",
    "        layer = tf.layers.batch_normalization(\n",
    "            layer, training=mode == tf.estimator.ModeKeys.TRAIN)\n",
    "\n",
    "    logits = tf.layers.dense(layer, 10)\n",
    "    if params[\"print_shapes\"]:\n",
    "        print(logits.shape)\n",
    "    cls = tf.argmax(logits, -1)\n",
    "\n",
    "    if mode == tf.estimator.ModeKeys.PREDICT:\n",
    "        return tf.estimator.EstimatorSpec(mode, predictions={\n",
    "            \"class\": cls,\n",
    "            \"score\": tf.nn.softmax(logits)\n",
    "        })\n",
    "\n",
    "    loss = tf.losses.sparse_softmax_cross_entropy(labels, logits)\n",
    "\n",
    "    if mode == tf.estimator.ModeKeys.EVAL:\n",
    "        return tf.estimator.EstimatorSpec(mode, loss=loss, eval_metric_ops={\n",
    "            \"accuracy\": tf.metrics.accuracy(labels, cls)\n",
    "        })\n",
    "\n",
    "    opt = tf.train.AdamOptimizer().minimize(\n",
    "        loss, global_step=tf.train.get_global_step())\n",
    "\n",
    "    return tf.estimator.EstimatorSpec(mode, loss=loss, train_op=opt)"
   ]
  },
  {
   "cell_type": "code",
   "execution_count": 4,
   "metadata": {},
   "outputs": [],
   "source": [
    "def inp_fn():\n",
    "    return tf.data.Dataset.from_generator(cifar.cifar10_train,({\"images\":tf.float32},tf.int64),\n",
    "                                         ({\"images\":tf.TensorShape([None,32,32,3])},tf.TensorShape(None)))\n",
    "\n",
    "def test_inp_fn():\n",
    "    return tf.data.Dataset.from_generator(cifar.cifar10_test,({\"images\":tf.float32},tf.int64),\n",
    "                                         ({\"images\":tf.TensorShape([None,32,32,3])},tf.TensorShape(None)))"
   ]
  },
  {
   "cell_type": "markdown",
   "metadata": {},
   "source": [
    "## Without BatchNorm (no dropout)"
   ]
  },
  {
   "cell_type": "code",
   "execution_count": 5,
   "metadata": {},
   "outputs": [],
   "source": [
    "wobn_params = {\n",
    "    \"filters\": [30, 50,60],\n",
    "    \"kern\": [[3, 3]]*3,\n",
    "    \"strides\": [[2,2],[1,1],[1,1]],\n",
    "    \"dense\": [3500,700],\n",
    "    \"with_bn\": False,\n",
    "    \"print_shapes\": True\n",
    "}"
   ]
  },
  {
   "cell_type": "markdown",
   "metadata": {},
   "source": [
    "### View layer shapes"
   ]
  },
  {
   "cell_type": "code",
   "execution_count": 6,
   "metadata": {},
   "outputs": [
    {
     "name": "stdout",
     "output_type": "stream",
     "text": [
      "(10, 32, 32, 3)\n",
      "(10, 15, 15, 30)\n",
      "(10, 13, 13, 50)\n",
      "(10, 11, 11, 60)\n",
      "(10, 7260)\n",
      "(10, 3500)\n",
      "(10, 700)\n",
      "(10, 10)\n"
     ]
    }
   ],
   "source": [
    "model({\"images\":tf.placeholder(tf.float32,(10,32,32,3))},\n",
    "      tf.placeholder(tf.int32,(10)),tf.estimator.ModeKeys.TRAIN,wobn_params)\n",
    "wobn_params[\"print_shapes\"] = False"
   ]
  },
  {
   "cell_type": "code",
   "execution_count": 7,
   "metadata": {},
   "outputs": [
    {
     "name": "stdout",
     "output_type": "stream",
     "text": [
      "INFO:tensorflow:Using config: {'_model_dir': 'wobn-ckpts', '_tf_random_seed': None, '_save_summary_steps': 10, '_save_checkpoints_steps': None, '_save_checkpoints_secs': 600, '_session_config': None, '_keep_checkpoint_max': 5, '_keep_checkpoint_every_n_hours': 10000, '_log_step_count_steps': 100, '_train_distribute': None, '_service': None, '_cluster_spec': <tensorflow.python.training.server_lib.ClusterSpec object at 0x00000241B1C1F358>, '_task_type': 'worker', '_task_id': 0, '_global_id_in_cluster': 0, '_master': '', '_evaluation_master': '', '_is_chief': True, '_num_ps_replicas': 0, '_num_worker_replicas': 1}\n"
     ]
    }
   ],
   "source": [
    "wobn = tf.estimator.Estimator(model, 'wobn-ckpts', config=tf.estimator.RunConfig(save_summary_steps=2),\n",
    "                              params=wobn_params)"
   ]
  },
  {
   "cell_type": "markdown",
   "metadata": {},
   "source": [
    "Run tensorboard with:\n",
    "```\n",
    "tensorboard --logdir wobn-ckpts\n",
    "```\n",
    "in current directory"
   ]
  },
  {
   "cell_type": "code",
   "execution_count": 9,
   "metadata": {
    "scrolled": true
   },
   "outputs": [
    {
     "name": "stdout",
     "output_type": "stream",
     "text": [
      "INFO:tensorflow:Calling model_fn.\n",
      "INFO:tensorflow:Done calling model_fn.\n",
      "INFO:tensorflow:Create CheckpointSaverHook.\n",
      "INFO:tensorflow:Graph was finalized.\n",
      "INFO:tensorflow:Restoring parameters from wobn-ckpts\\model.ckpt-200\n",
      "INFO:tensorflow:Running local_init_op.\n",
      "INFO:tensorflow:Done running local_init_op.\n",
      "INFO:tensorflow:Saving checkpoints for 201 into wobn-ckpts\\model.ckpt.\n",
      "INFO:tensorflow:loss = 0.5700029, step = 200\n",
      "INFO:tensorflow:Saving checkpoints for 220 into wobn-ckpts\\model.ckpt.\n",
      "INFO:tensorflow:Loss for final step: 0.5607767.\n",
      "INFO:tensorflow:Calling model_fn.\n",
      "INFO:tensorflow:Done calling model_fn.\n",
      "INFO:tensorflow:Starting evaluation at 2018-05-26-11:21:53\n",
      "INFO:tensorflow:Graph was finalized.\n",
      "INFO:tensorflow:Restoring parameters from wobn-ckpts\\model.ckpt-220\n",
      "INFO:tensorflow:Running local_init_op.\n",
      "INFO:tensorflow:Done running local_init_op.\n",
      "INFO:tensorflow:Finished evaluation at 2018-05-26-11:21:56\n",
      "INFO:tensorflow:Saving dict for global step 220: accuracy = 0.6369, global_step = 220, loss = 1.1143999\n",
      "INFO:tensorflow:Calling model_fn.\n",
      "INFO:tensorflow:Done calling model_fn.\n",
      "INFO:tensorflow:Create CheckpointSaverHook.\n",
      "INFO:tensorflow:Graph was finalized.\n",
      "INFO:tensorflow:Restoring parameters from wobn-ckpts\\model.ckpt-220\n",
      "INFO:tensorflow:Running local_init_op.\n",
      "INFO:tensorflow:Done running local_init_op.\n",
      "INFO:tensorflow:Saving checkpoints for 221 into wobn-ckpts\\model.ckpt.\n",
      "INFO:tensorflow:loss = 0.5073128, step = 220\n",
      "INFO:tensorflow:Saving checkpoints for 240 into wobn-ckpts\\model.ckpt.\n",
      "INFO:tensorflow:Loss for final step: 0.4411881.\n",
      "INFO:tensorflow:Calling model_fn.\n",
      "INFO:tensorflow:Done calling model_fn.\n",
      "INFO:tensorflow:Starting evaluation at 2018-05-26-11:22:36\n",
      "INFO:tensorflow:Graph was finalized.\n",
      "INFO:tensorflow:Restoring parameters from wobn-ckpts\\model.ckpt-240\n",
      "INFO:tensorflow:Running local_init_op.\n",
      "INFO:tensorflow:Done running local_init_op.\n",
      "INFO:tensorflow:Finished evaluation at 2018-05-26-11:22:39\n",
      "INFO:tensorflow:Saving dict for global step 240: accuracy = 0.6338, global_step = 240, loss = 1.2057505\n",
      "INFO:tensorflow:Calling model_fn.\n",
      "INFO:tensorflow:Done calling model_fn.\n",
      "INFO:tensorflow:Create CheckpointSaverHook.\n",
      "INFO:tensorflow:Graph was finalized.\n",
      "INFO:tensorflow:Restoring parameters from wobn-ckpts\\model.ckpt-240\n",
      "INFO:tensorflow:Running local_init_op.\n",
      "INFO:tensorflow:Done running local_init_op.\n",
      "INFO:tensorflow:Saving checkpoints for 241 into wobn-ckpts\\model.ckpt.\n",
      "INFO:tensorflow:loss = 0.43493104, step = 240\n",
      "INFO:tensorflow:Saving checkpoints for 260 into wobn-ckpts\\model.ckpt.\n",
      "INFO:tensorflow:Loss for final step: 0.33210382.\n",
      "INFO:tensorflow:Calling model_fn.\n",
      "INFO:tensorflow:Done calling model_fn.\n",
      "INFO:tensorflow:Starting evaluation at 2018-05-26-11:23:18\n",
      "INFO:tensorflow:Graph was finalized.\n",
      "INFO:tensorflow:Restoring parameters from wobn-ckpts\\model.ckpt-260\n",
      "INFO:tensorflow:Running local_init_op.\n",
      "INFO:tensorflow:Done running local_init_op.\n",
      "INFO:tensorflow:Finished evaluation at 2018-05-26-11:23:21\n",
      "INFO:tensorflow:Saving dict for global step 260: accuracy = 0.6413, global_step = 260, loss = 1.1673703\n",
      "INFO:tensorflow:Calling model_fn.\n",
      "INFO:tensorflow:Done calling model_fn.\n",
      "INFO:tensorflow:Create CheckpointSaverHook.\n",
      "INFO:tensorflow:Graph was finalized.\n",
      "INFO:tensorflow:Restoring parameters from wobn-ckpts\\model.ckpt-260\n",
      "INFO:tensorflow:Running local_init_op.\n",
      "INFO:tensorflow:Done running local_init_op.\n",
      "INFO:tensorflow:Saving checkpoints for 261 into wobn-ckpts\\model.ckpt.\n",
      "INFO:tensorflow:loss = 0.30600092, step = 260\n",
      "INFO:tensorflow:Saving checkpoints for 280 into wobn-ckpts\\model.ckpt.\n",
      "INFO:tensorflow:Loss for final step: 0.29301935.\n",
      "INFO:tensorflow:Calling model_fn.\n",
      "INFO:tensorflow:Done calling model_fn.\n",
      "INFO:tensorflow:Starting evaluation at 2018-05-26-11:24:00\n",
      "INFO:tensorflow:Graph was finalized.\n",
      "INFO:tensorflow:Restoring parameters from wobn-ckpts\\model.ckpt-280\n",
      "INFO:tensorflow:Running local_init_op.\n",
      "INFO:tensorflow:Done running local_init_op.\n",
      "INFO:tensorflow:Finished evaluation at 2018-05-26-11:24:03\n",
      "INFO:tensorflow:Saving dict for global step 280: accuracy = 0.6291, global_step = 280, loss = 1.2846506\n",
      "INFO:tensorflow:Calling model_fn.\n",
      "INFO:tensorflow:Done calling model_fn.\n",
      "INFO:tensorflow:Create CheckpointSaverHook.\n",
      "INFO:tensorflow:Graph was finalized.\n",
      "INFO:tensorflow:Restoring parameters from wobn-ckpts\\model.ckpt-280\n",
      "INFO:tensorflow:Running local_init_op.\n",
      "INFO:tensorflow:Done running local_init_op.\n",
      "INFO:tensorflow:Saving checkpoints for 281 into wobn-ckpts\\model.ckpt.\n",
      "INFO:tensorflow:loss = 0.29604858, step = 280\n",
      "INFO:tensorflow:Saving checkpoints for 300 into wobn-ckpts\\model.ckpt.\n",
      "INFO:tensorflow:Loss for final step: 0.22658874.\n",
      "INFO:tensorflow:Calling model_fn.\n",
      "INFO:tensorflow:Done calling model_fn.\n",
      "INFO:tensorflow:Starting evaluation at 2018-05-26-11:24:41\n",
      "INFO:tensorflow:Graph was finalized.\n",
      "INFO:tensorflow:Restoring parameters from wobn-ckpts\\model.ckpt-300\n",
      "INFO:tensorflow:Running local_init_op.\n",
      "INFO:tensorflow:Done running local_init_op.\n",
      "INFO:tensorflow:Finished evaluation at 2018-05-26-11:24:44\n",
      "INFO:tensorflow:Saving dict for global step 300: accuracy = 0.622, global_step = 300, loss = 1.4110172\n",
      "INFO:tensorflow:Calling model_fn.\n",
      "INFO:tensorflow:Done calling model_fn.\n",
      "INFO:tensorflow:Create CheckpointSaverHook.\n",
      "INFO:tensorflow:Graph was finalized.\n",
      "INFO:tensorflow:Restoring parameters from wobn-ckpts\\model.ckpt-300\n",
      "INFO:tensorflow:Running local_init_op.\n",
      "INFO:tensorflow:Done running local_init_op.\n",
      "INFO:tensorflow:Saving checkpoints for 301 into wobn-ckpts\\model.ckpt.\n",
      "INFO:tensorflow:loss = 0.3338605, step = 300\n",
      "INFO:tensorflow:Saving checkpoints for 320 into wobn-ckpts\\model.ckpt.\n",
      "INFO:tensorflow:Loss for final step: 0.2607753.\n",
      "INFO:tensorflow:Calling model_fn.\n",
      "INFO:tensorflow:Done calling model_fn.\n",
      "INFO:tensorflow:Starting evaluation at 2018-05-26-11:25:22\n",
      "INFO:tensorflow:Graph was finalized.\n",
      "INFO:tensorflow:Restoring parameters from wobn-ckpts\\model.ckpt-320\n",
      "INFO:tensorflow:Running local_init_op.\n",
      "INFO:tensorflow:Done running local_init_op.\n",
      "INFO:tensorflow:Finished evaluation at 2018-05-26-11:25:25\n",
      "INFO:tensorflow:Saving dict for global step 320: accuracy = 0.6416, global_step = 320, loss = 1.2111335\n",
      "INFO:tensorflow:Calling model_fn.\n",
      "INFO:tensorflow:Done calling model_fn.\n",
      "INFO:tensorflow:Create CheckpointSaverHook.\n",
      "INFO:tensorflow:Graph was finalized.\n",
      "INFO:tensorflow:Restoring parameters from wobn-ckpts\\model.ckpt-320\n",
      "INFO:tensorflow:Running local_init_op.\n",
      "INFO:tensorflow:Done running local_init_op.\n",
      "INFO:tensorflow:Saving checkpoints for 321 into wobn-ckpts\\model.ckpt.\n",
      "INFO:tensorflow:loss = 0.20720269, step = 320\n",
      "INFO:tensorflow:Saving checkpoints for 340 into wobn-ckpts\\model.ckpt.\n",
      "INFO:tensorflow:Loss for final step: 0.14641283.\n",
      "INFO:tensorflow:Calling model_fn.\n",
      "INFO:tensorflow:Done calling model_fn.\n",
      "INFO:tensorflow:Starting evaluation at 2018-05-26-11:26:04\n",
      "INFO:tensorflow:Graph was finalized.\n",
      "INFO:tensorflow:Restoring parameters from wobn-ckpts\\model.ckpt-340\n",
      "INFO:tensorflow:Running local_init_op.\n",
      "INFO:tensorflow:Done running local_init_op.\n",
      "INFO:tensorflow:Finished evaluation at 2018-05-26-11:26:07\n",
      "INFO:tensorflow:Saving dict for global step 340: accuracy = 0.6213, global_step = 340, loss = 1.5175428\n",
      "INFO:tensorflow:Calling model_fn.\n",
      "INFO:tensorflow:Done calling model_fn.\n",
      "INFO:tensorflow:Create CheckpointSaverHook.\n",
      "INFO:tensorflow:Graph was finalized.\n",
      "INFO:tensorflow:Restoring parameters from wobn-ckpts\\model.ckpt-340\n",
      "INFO:tensorflow:Running local_init_op.\n",
      "INFO:tensorflow:Done running local_init_op.\n",
      "INFO:tensorflow:Saving checkpoints for 341 into wobn-ckpts\\model.ckpt.\n",
      "INFO:tensorflow:loss = 0.21982679, step = 340\n",
      "INFO:tensorflow:Saving checkpoints for 360 into wobn-ckpts\\model.ckpt.\n",
      "INFO:tensorflow:Loss for final step: 0.12957118.\n",
      "INFO:tensorflow:Calling model_fn.\n",
      "INFO:tensorflow:Done calling model_fn.\n",
      "INFO:tensorflow:Starting evaluation at 2018-05-26-11:26:45\n",
      "INFO:tensorflow:Graph was finalized.\n",
      "INFO:tensorflow:Restoring parameters from wobn-ckpts\\model.ckpt-360\n",
      "INFO:tensorflow:Running local_init_op.\n",
      "INFO:tensorflow:Done running local_init_op.\n",
      "INFO:tensorflow:Finished evaluation at 2018-05-26-11:26:48\n",
      "INFO:tensorflow:Saving dict for global step 360: accuracy = 0.6331, global_step = 360, loss = 1.4330807\n"
     ]
    },
    {
     "name": "stdout",
     "output_type": "stream",
     "text": [
      "INFO:tensorflow:Calling model_fn.\n",
      "INFO:tensorflow:Done calling model_fn.\n",
      "INFO:tensorflow:Create CheckpointSaverHook.\n",
      "INFO:tensorflow:Graph was finalized.\n",
      "INFO:tensorflow:Restoring parameters from wobn-ckpts\\model.ckpt-360\n",
      "INFO:tensorflow:Running local_init_op.\n",
      "INFO:tensorflow:Done running local_init_op.\n",
      "INFO:tensorflow:Saving checkpoints for 361 into wobn-ckpts\\model.ckpt.\n",
      "INFO:tensorflow:loss = 0.12534046, step = 360\n",
      "INFO:tensorflow:Saving checkpoints for 380 into wobn-ckpts\\model.ckpt.\n",
      "INFO:tensorflow:Loss for final step: 0.41326514.\n",
      "INFO:tensorflow:Calling model_fn.\n",
      "INFO:tensorflow:Done calling model_fn.\n",
      "INFO:tensorflow:Starting evaluation at 2018-05-26-11:27:28\n",
      "INFO:tensorflow:Graph was finalized.\n",
      "INFO:tensorflow:Restoring parameters from wobn-ckpts\\model.ckpt-380\n",
      "INFO:tensorflow:Running local_init_op.\n",
      "INFO:tensorflow:Done running local_init_op.\n",
      "INFO:tensorflow:Finished evaluation at 2018-05-26-11:27:30\n",
      "INFO:tensorflow:Saving dict for global step 380: accuracy = 0.6097, global_step = 380, loss = 1.4812248\n",
      "INFO:tensorflow:Calling model_fn.\n",
      "INFO:tensorflow:Done calling model_fn.\n",
      "INFO:tensorflow:Create CheckpointSaverHook.\n",
      "INFO:tensorflow:Graph was finalized.\n",
      "INFO:tensorflow:Restoring parameters from wobn-ckpts\\model.ckpt-380\n",
      "INFO:tensorflow:Running local_init_op.\n",
      "INFO:tensorflow:Done running local_init_op.\n",
      "INFO:tensorflow:Saving checkpoints for 381 into wobn-ckpts\\model.ckpt.\n",
      "INFO:tensorflow:loss = 0.18921633, step = 380\n",
      "INFO:tensorflow:Saving checkpoints for 400 into wobn-ckpts\\model.ckpt.\n",
      "INFO:tensorflow:Loss for final step: 0.08513114.\n",
      "INFO:tensorflow:Calling model_fn.\n",
      "INFO:tensorflow:Done calling model_fn.\n",
      "INFO:tensorflow:Starting evaluation at 2018-05-26-11:28:10\n",
      "INFO:tensorflow:Graph was finalized.\n",
      "INFO:tensorflow:Restoring parameters from wobn-ckpts\\model.ckpt-400\n",
      "INFO:tensorflow:Running local_init_op.\n",
      "INFO:tensorflow:Done running local_init_op.\n",
      "INFO:tensorflow:Finished evaluation at 2018-05-26-11:28:13\n",
      "INFO:tensorflow:Saving dict for global step 400: accuracy = 0.6292, global_step = 400, loss = 1.5359154\n"
     ]
    }
   ],
   "source": [
    "for i in range(20):\n",
    "    wobn.train(inp_fn)\n",
    "    wobn.evaluate(test_inp_fn)"
   ]
  },
  {
   "cell_type": "markdown",
   "metadata": {},
   "source": [
    "## With BatchNorm"
   ]
  },
  {
   "cell_type": "code",
   "execution_count": 10,
   "metadata": {},
   "outputs": [],
   "source": [
    "wbn_params = {\n",
    "    \"filters\": [30, 50,60],\n",
    "    \"kern\": [[3, 3]]*3,\n",
    "    \"strides\": [[2,2],[1,1],[1,1]],\n",
    "    \"dense\": [3500,700],\n",
    "    \"with_bn\": True,\n",
    "    \"print_shapes\": True\n",
    "}"
   ]
  },
  {
   "cell_type": "markdown",
   "metadata": {},
   "source": [
    "### View layer shapes"
   ]
  },
  {
   "cell_type": "code",
   "execution_count": 11,
   "metadata": {},
   "outputs": [
    {
     "name": "stdout",
     "output_type": "stream",
     "text": [
      "(10, 32, 32, 3)\n",
      "(10, 15, 15, 30)\n",
      "(10, 13, 13, 50)\n",
      "(10, 11, 11, 60)\n",
      "(10, 7260)\n",
      "(10, 3500)\n",
      "(10, 700)\n",
      "(10, 10)\n"
     ]
    }
   ],
   "source": [
    "model({\"images\":tf.placeholder(tf.float32,(10,32,32,3))},\n",
    "      tf.placeholder(tf.int32,(10)),tf.estimator.ModeKeys.TRAIN,wbn_params)\n",
    "wbn_params[\"print_shapes\"] = False"
   ]
  },
  {
   "cell_type": "code",
   "execution_count": 12,
   "metadata": {},
   "outputs": [
    {
     "name": "stdout",
     "output_type": "stream",
     "text": [
      "INFO:tensorflow:Using config: {'_model_dir': 'wbn-ckpts', '_tf_random_seed': None, '_save_summary_steps': 10, '_save_checkpoints_steps': None, '_save_checkpoints_secs': 600, '_session_config': None, '_keep_checkpoint_max': 5, '_keep_checkpoint_every_n_hours': 10000, '_log_step_count_steps': 100, '_train_distribute': None, '_service': None, '_cluster_spec': <tensorflow.python.training.server_lib.ClusterSpec object at 0x00000241B2313048>, '_task_type': 'worker', '_task_id': 0, '_global_id_in_cluster': 0, '_master': '', '_evaluation_master': '', '_is_chief': True, '_num_ps_replicas': 0, '_num_worker_replicas': 1}\n"
     ]
    }
   ],
   "source": [
    "wbn = tf.estimator.Estimator(model, 'wbn-ckpts', config=tf.estimator.RunConfig(save_summary_steps=2),\n",
    "                              params=wbn_params)"
   ]
  },
  {
   "cell_type": "markdown",
   "metadata": {},
   "source": [
    "Run tensorboard with:\n",
    "```\n",
    "tensorboard --logdir wbn-ckpts --port 6007\n",
    "```\n",
    "in current directory"
   ]
  },
  {
   "cell_type": "code",
   "execution_count": 13,
   "metadata": {
    "scrolled": true
   },
   "outputs": [
    {
     "name": "stdout",
     "output_type": "stream",
     "text": [
      "INFO:tensorflow:Calling model_fn.\n",
      "INFO:tensorflow:Done calling model_fn.\n",
      "INFO:tensorflow:Create CheckpointSaverHook.\n",
      "INFO:tensorflow:Graph was finalized.\n",
      "INFO:tensorflow:Running local_init_op.\n",
      "INFO:tensorflow:Done running local_init_op.\n",
      "INFO:tensorflow:Saving checkpoints for 1 into wbn-ckpts\\model.ckpt.\n",
      "INFO:tensorflow:loss = 2.9929466, step = 0\n",
      "INFO:tensorflow:Saving checkpoints for 20 into wbn-ckpts\\model.ckpt.\n",
      "INFO:tensorflow:Loss for final step: 1.2838881.\n",
      "INFO:tensorflow:Calling model_fn.\n",
      "INFO:tensorflow:Done calling model_fn.\n",
      "INFO:tensorflow:Starting evaluation at 2018-05-26-11:29:34\n",
      "INFO:tensorflow:Graph was finalized.\n",
      "INFO:tensorflow:Restoring parameters from wbn-ckpts\\model.ckpt-20\n",
      "INFO:tensorflow:Running local_init_op.\n",
      "INFO:tensorflow:Done running local_init_op.\n",
      "INFO:tensorflow:Finished evaluation at 2018-05-26-11:29:38\n",
      "INFO:tensorflow:Saving dict for global step 20: accuracy = 0.1066, global_step = 20, loss = 2.7712424\n",
      "INFO:tensorflow:Calling model_fn.\n",
      "INFO:tensorflow:Done calling model_fn.\n",
      "INFO:tensorflow:Create CheckpointSaverHook.\n",
      "INFO:tensorflow:Graph was finalized.\n",
      "INFO:tensorflow:Restoring parameters from wbn-ckpts\\model.ckpt-20\n",
      "INFO:tensorflow:Running local_init_op.\n",
      "INFO:tensorflow:Done running local_init_op.\n",
      "INFO:tensorflow:Saving checkpoints for 21 into wbn-ckpts\\model.ckpt.\n",
      "INFO:tensorflow:loss = 1.1919807, step = 20\n",
      "INFO:tensorflow:Saving checkpoints for 40 into wbn-ckpts\\model.ckpt.\n",
      "INFO:tensorflow:Loss for final step: 0.8545088.\n",
      "INFO:tensorflow:Calling model_fn.\n",
      "INFO:tensorflow:Done calling model_fn.\n",
      "INFO:tensorflow:Starting evaluation at 2018-05-26-11:30:23\n",
      "INFO:tensorflow:Graph was finalized.\n",
      "INFO:tensorflow:Restoring parameters from wbn-ckpts\\model.ckpt-40\n",
      "INFO:tensorflow:Running local_init_op.\n",
      "INFO:tensorflow:Done running local_init_op.\n",
      "INFO:tensorflow:Finished evaluation at 2018-05-26-11:30:26\n",
      "INFO:tensorflow:Saving dict for global step 40: accuracy = 0.0678, global_step = 40, loss = 2.5365503\n",
      "INFO:tensorflow:Calling model_fn.\n",
      "INFO:tensorflow:Done calling model_fn.\n",
      "INFO:tensorflow:Create CheckpointSaverHook.\n",
      "INFO:tensorflow:Graph was finalized.\n",
      "INFO:tensorflow:Restoring parameters from wbn-ckpts\\model.ckpt-40\n",
      "INFO:tensorflow:Running local_init_op.\n",
      "INFO:tensorflow:Done running local_init_op.\n",
      "INFO:tensorflow:Saving checkpoints for 41 into wbn-ckpts\\model.ckpt.\n",
      "INFO:tensorflow:loss = 0.73367125, step = 40\n",
      "INFO:tensorflow:Saving checkpoints for 60 into wbn-ckpts\\model.ckpt.\n",
      "INFO:tensorflow:Loss for final step: 0.2760063.\n",
      "INFO:tensorflow:Calling model_fn.\n",
      "INFO:tensorflow:Done calling model_fn.\n",
      "INFO:tensorflow:Starting evaluation at 2018-05-26-11:31:10\n",
      "INFO:tensorflow:Graph was finalized.\n",
      "INFO:tensorflow:Restoring parameters from wbn-ckpts\\model.ckpt-60\n",
      "INFO:tensorflow:Running local_init_op.\n",
      "INFO:tensorflow:Done running local_init_op.\n",
      "INFO:tensorflow:Finished evaluation at 2018-05-26-11:31:13\n",
      "INFO:tensorflow:Saving dict for global step 60: accuracy = 0.0997, global_step = 60, loss = 2.369474\n",
      "INFO:tensorflow:Calling model_fn.\n",
      "INFO:tensorflow:Done calling model_fn.\n",
      "INFO:tensorflow:Create CheckpointSaverHook.\n",
      "INFO:tensorflow:Graph was finalized.\n",
      "INFO:tensorflow:Restoring parameters from wbn-ckpts\\model.ckpt-60\n",
      "INFO:tensorflow:Running local_init_op.\n",
      "INFO:tensorflow:Done running local_init_op.\n",
      "INFO:tensorflow:Saving checkpoints for 61 into wbn-ckpts\\model.ckpt.\n",
      "INFO:tensorflow:loss = 0.21933426, step = 60\n",
      "INFO:tensorflow:Saving checkpoints for 80 into wbn-ckpts\\model.ckpt.\n",
      "INFO:tensorflow:Loss for final step: 0.116096474.\n",
      "INFO:tensorflow:Calling model_fn.\n",
      "INFO:tensorflow:Done calling model_fn.\n",
      "INFO:tensorflow:Starting evaluation at 2018-05-26-11:31:57\n",
      "INFO:tensorflow:Graph was finalized.\n",
      "INFO:tensorflow:Restoring parameters from wbn-ckpts\\model.ckpt-80\n",
      "INFO:tensorflow:Running local_init_op.\n",
      "INFO:tensorflow:Done running local_init_op.\n",
      "INFO:tensorflow:Finished evaluation at 2018-05-26-11:32:00\n",
      "INFO:tensorflow:Saving dict for global step 80: accuracy = 0.094, global_step = 80, loss = 2.32374\n",
      "INFO:tensorflow:Calling model_fn.\n",
      "INFO:tensorflow:Done calling model_fn.\n",
      "INFO:tensorflow:Create CheckpointSaverHook.\n",
      "INFO:tensorflow:Graph was finalized.\n",
      "INFO:tensorflow:Restoring parameters from wbn-ckpts\\model.ckpt-80\n",
      "INFO:tensorflow:Running local_init_op.\n",
      "INFO:tensorflow:Done running local_init_op.\n",
      "INFO:tensorflow:Saving checkpoints for 81 into wbn-ckpts\\model.ckpt.\n",
      "INFO:tensorflow:loss = 0.078258134, step = 80\n",
      "INFO:tensorflow:Saving checkpoints for 100 into wbn-ckpts\\model.ckpt.\n",
      "INFO:tensorflow:Loss for final step: 0.06986313.\n",
      "INFO:tensorflow:Calling model_fn.\n",
      "INFO:tensorflow:Done calling model_fn.\n",
      "INFO:tensorflow:Starting evaluation at 2018-05-26-11:32:45\n",
      "INFO:tensorflow:Graph was finalized.\n",
      "INFO:tensorflow:Restoring parameters from wbn-ckpts\\model.ckpt-100\n",
      "INFO:tensorflow:Running local_init_op.\n",
      "INFO:tensorflow:Done running local_init_op.\n",
      "INFO:tensorflow:Finished evaluation at 2018-05-26-11:32:48\n",
      "INFO:tensorflow:Saving dict for global step 100: accuracy = 0.0865, global_step = 100, loss = 2.3185449\n"
     ]
    }
   ],
   "source": [
    "for i in range(5): \n",
    "    wbn.train(inp_fn)\n",
    "    wbn.evaluate(test_inp_fn)"
   ]
  },
  {
   "cell_type": "markdown",
   "metadata": {},
   "source": [
    "## Results\n",
    "#### Without BN\n",
    "![Without BN](wobn.png)\n",
    "#### With BN\n",
    "![With BN](wbn.png)\n",
    "\n",
    "As we can see, the loss converges much faster in the version using Batch Normalization. Version without BN takes about 350 steps, whereas version with BN does it in just 80! This is due to the reduction of internal covariant shift for each layer as done by BN.\n",
    "\n",
    "#### Overfitting\n",
    "Here, we can see that the eval losses goes up during training - an obvious indication of overfitting. For now, we have concentrated only to know how the BN fastens up the regular networks. So, I didn't use any regularization.\n",
    "\n",
    "BN also provides a weak form of regularization. But as we can see, it cannot prevent overfitting. It should used with any other regularization layers used normally."
   ]
  },
  {
   "cell_type": "markdown",
   "metadata": {},
   "source": [
    "Read more about Batch Normalization in the [original paper](https://arxiv.org/abs/1502.03167). You can try running this notebook in your local system or in [Google Colab](https://colab.research.google.com)"
   ]
  }
 ],
 "metadata": {
  "kernelspec": {
   "display_name": "Python 3",
   "language": "python",
   "name": "python3"
  },
  "language_info": {
   "codemirror_mode": {
    "name": "ipython",
    "version": 3
   },
   "file_extension": ".py",
   "mimetype": "text/x-python",
   "name": "python",
   "nbconvert_exporter": "python",
   "pygments_lexer": "ipython3",
   "version": "3.6.5"
  },
  "varInspector": {
   "cols": {
    "lenName": 16,
    "lenType": 16,
    "lenVar": 40
   },
   "kernels_config": {
    "python": {
     "delete_cmd_postfix": "",
     "delete_cmd_prefix": "del ",
     "library": "var_list.py",
     "varRefreshCmd": "print(var_dic_list())"
    },
    "r": {
     "delete_cmd_postfix": ") ",
     "delete_cmd_prefix": "rm(",
     "library": "var_list.r",
     "varRefreshCmd": "cat(var_dic_list()) "
    }
   },
   "types_to_exclude": [
    "module",
    "function",
    "builtin_function_or_method",
    "instance",
    "_Feature"
   ],
   "window_display": false
  }
 },
 "nbformat": 4,
 "nbformat_minor": 2
}
