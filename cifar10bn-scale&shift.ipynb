{
 "cells": [
  {
   "cell_type": "code",
   "execution_count": 1,
   "metadata": {},
   "outputs": [],
   "source": [
    "import tensorflow as tf\n",
    "import cifar\n",
    "tf.logging.set_verbosity(tf.logging.WARN)"
   ]
  },
  {
   "cell_type": "markdown",
   "metadata": {},
   "source": [
    "## Download and extract the dataset"
   ]
  },
  {
   "cell_type": "code",
   "execution_count": 2,
   "metadata": {},
   "outputs": [],
   "source": [
    "cifar.prepare_cifar_10()\n",
    "cifar10_labels = cifar.cifar10_labels()"
   ]
  },
  {
   "cell_type": "markdown",
   "metadata": {},
   "source": [
    "## Define the model function"
   ]
  },
  {
   "cell_type": "code",
   "execution_count": 3,
   "metadata": {},
   "outputs": [],
   "source": [
    "def model(features, labels, mode, params):\n",
    "    net = features['images']\n",
    "    if params[\"print_shapes\"]:\n",
    "        print(net.shape)\n",
    "\n",
    "    for filt, kern, stride in zip(params['filters'], params['kern'], params['strides']):\n",
    "        net = tf.layers.batch_normalization(net, center=params['with_scsf'], scale=params['with_scsf'],\n",
    "                                            momentum=params['momentum'], training=mode == tf.estimator.ModeKeys.TRAIN)\n",
    "        net = tf.layers.conv2d(net, filt,\n",
    "                               kern, stride, activation=tf.nn.relu)\n",
    "        if params[\"print_shapes\"]:\n",
    "            print(net.shape)\n",
    "\n",
    "    net = tf.layers.flatten(net)\n",
    "    if params[\"print_shapes\"]:\n",
    "        print(net.shape)\n",
    "\n",
    "    for units in params['dense']:\n",
    "        net = tf.layers.batch_normalization(net, center=params['with_scsf'], scale=params['with_scsf'],\n",
    "                                            momentum=params['momentum'], training=mode == tf.estimator.ModeKeys.TRAIN)\n",
    "        net = tf.layers.dense(net, units,\n",
    "                              activation=tf.nn.relu)\n",
    "        if params[\"print_shapes\"]:\n",
    "            print(net.shape)\n",
    "\n",
    "    net = tf.layers.batch_normalization(net, center=params['with_scsf'], scale=params['with_scsf'],\n",
    "                                            momentum=params['momentum'], training=mode == tf.estimator.ModeKeys.TRAIN)\n",
    "\n",
    "    logits = tf.layers.dense(net, params['n_classes'])\n",
    "    if params[\"print_shapes\"]:\n",
    "        print(logits.shape)\n",
    "    cls = tf.argmax(logits, -1)\n",
    "\n",
    "    if mode == tf.estimator.ModeKeys.PREDICT:\n",
    "        return tf.estimator.EstimatorSpec(mode, predictions={\n",
    "            \"class\": cls,\n",
    "            \"score\": tf.nn.softmax(logits)\n",
    "        })\n",
    "\n",
    "    loss = tf.losses.sparse_softmax_cross_entropy(labels, logits)\n",
    "\n",
    "    if mode == tf.estimator.ModeKeys.EVAL:\n",
    "        return tf.estimator.EstimatorSpec(mode, loss=loss, eval_metric_ops={\n",
    "            \"accuracy\": tf.metrics.accuracy(labels, cls)\n",
    "        })\n",
    "    adam = tf.train.AdamOptimizer()\n",
    "\n",
    "    update_ops = tf.get_collection(tf.GraphKeys.UPDATE_OPS)\n",
    "    with tf.control_dependencies(update_ops):\n",
    "        opt = adam.minimize(loss, global_step=tf.train.get_global_step())\n",
    "\n",
    "    return tf.estimator.EstimatorSpec(mode, loss=loss, train_op=opt)"
   ]
  },
  {
   "cell_type": "code",
   "execution_count": 4,
   "metadata": {},
   "outputs": [],
   "source": [
    "def inp_fn():\n",
    "    return tf.data.Dataset.from_generator(cifar.cifar10_train, ({\"images\": tf.float32}, tf.int64),\n",
    "                                          ({\"images\": tf.TensorShape([None, 32, 32, 3])}, tf.TensorShape(None)))\n",
    "\n",
    "\n",
    "def test_inp_fn():\n",
    "    return tf.data.Dataset.from_generator(cifar.cifar10_test, ({\"images\": tf.float32}, tf.int64),\n",
    "                                          ({\"images\": tf.TensorShape([None, 32, 32, 3])}, tf.TensorShape(None)))"
   ]
  },
  {
   "cell_type": "code",
   "execution_count": 5,
   "metadata": {},
   "outputs": [],
   "source": [
    "hparams = {\n",
    "    \"filters\": [30, 50, 60],\n",
    "    \"kern\": [[3, 3]]*3,\n",
    "    \"strides\": [[2, 2], [1, 1], [1, 1]],\n",
    "    \"dense\": [3500, 700],\n",
    "    \"n_classes\": 10,\n",
    "    \"with_scsf\": True,\n",
    "    \"momentum\": 0.75,\n",
    "    \"print_shapes\": True\n",
    "}"
   ]
  },
  {
   "cell_type": "markdown",
   "metadata": {},
   "source": [
    "### View layer shapes"
   ]
  },
  {
   "cell_type": "code",
   "execution_count": 6,
   "metadata": {},
   "outputs": [
    {
     "name": "stdout",
     "output_type": "stream",
     "text": [
      "(10, 32, 32, 3)\n",
      "(10, 15, 15, 30)\n",
      "(10, 13, 13, 50)\n",
      "(10, 11, 11, 60)\n",
      "(10, 7260)\n",
      "(10, 3500)\n",
      "(10, 700)\n",
      "(10, 10)\n"
     ]
    }
   ],
   "source": [
    "model({\"images\": tf.placeholder(tf.float32, (10, 32, 32, 3))},\n",
    "      tf.placeholder(tf.int32, (10)), tf.estimator.ModeKeys.TRAIN, hparams)\n",
    "hparams[\"print_shapes\"] = False"
   ]
  },
  {
   "cell_type": "markdown",
   "metadata": {},
   "source": [
    "## With Scale and shift"
   ]
  },
  {
   "cell_type": "code",
   "execution_count": 7,
   "metadata": {},
   "outputs": [],
   "source": [
    "wscf = tf.estimator.Estimator(model, 'wscf-ckpts', config=tf.estimator.RunConfig(save_summary_steps=2),\n",
    "                              params=hparams)"
   ]
  },
  {
   "cell_type": "markdown",
   "metadata": {},
   "source": [
    "#### Start Tensorboard"
   ]
  },
  {
   "cell_type": "code",
   "execution_count": 8,
   "metadata": {},
   "outputs": [],
   "source": [
    "get_ipython().system_raw(\"start tensorboard --logdir wscf-ckpts\")  # Windows\n",
    "# get_ipython().system_raw(\"tensorboard --logdir wscf-ckpts &\") #Linux"
   ]
  },
  {
   "cell_type": "code",
   "execution_count": 9,
   "metadata": {},
   "outputs": [
    {
     "name": "stdout",
     "output_type": "stream",
     "text": [
      "{'accuracy': 0.547, 'loss': 1.2823796, 'global_step': 20}\n",
      "{'accuracy': 0.5949, 'loss': 1.1662079, 'global_step': 40}\n",
      "{'accuracy': 0.5788, 'loss': 1.4566054, 'global_step': 60}\n",
      "{'accuracy': 0.5681, 'loss': 1.7820822, 'global_step': 80}\n",
      "{'accuracy': 0.5846, 'loss': 1.7017951, 'global_step': 100}\n",
      "{'accuracy': 0.5846, 'loss': 1.8201271, 'global_step': 120}\n",
      "{'accuracy': 0.5974, 'loss': 1.7575045, 'global_step': 140}\n",
      "{'accuracy': 0.599, 'loss': 1.721942, 'global_step': 160}\n",
      "{'accuracy': 0.6035, 'loss': 1.7390618, 'global_step': 180}\n",
      "{'accuracy': 0.6043, 'loss': 1.750489, 'global_step': 200}\n",
      "{'accuracy': 0.6045, 'loss': 1.7619331, 'global_step': 220}\n",
      "{'accuracy': 0.6053, 'loss': 1.7707057, 'global_step': 240}\n",
      "{'accuracy': 0.6055, 'loss': 1.7792139, 'global_step': 260}\n",
      "{'accuracy': 0.6059, 'loss': 1.7870388, 'global_step': 280}\n",
      "{'accuracy': 0.6065, 'loss': 1.7944248, 'global_step': 300}\n",
      "{'accuracy': 0.6062, 'loss': 1.8013859, 'global_step': 320}\n",
      "{'accuracy': 0.6068, 'loss': 1.8080118, 'global_step': 340}\n",
      "{'accuracy': 0.6068, 'loss': 1.8143178, 'global_step': 360}\n",
      "{'accuracy': 0.6072, 'loss': 1.8203437, 'global_step': 380}\n",
      "{'accuracy': 0.6067, 'loss': 1.8261154, 'global_step': 400}\n",
      "Wall time: 15min 30s\n"
     ]
    }
   ],
   "source": [
    "%%time\n",
    "for i in range(20):\n",
    "    wscf.train(inp_fn)\n",
    "    print(wscf.evaluate(test_inp_fn))"
   ]
  },
  {
   "cell_type": "markdown",
   "metadata": {},
   "source": [
    "## Without Scale and Shift"
   ]
  },
  {
   "cell_type": "code",
   "execution_count": 10,
   "metadata": {},
   "outputs": [],
   "source": [
    "hparams['with_scsf'] = False"
   ]
  },
  {
   "cell_type": "code",
   "execution_count": 11,
   "metadata": {},
   "outputs": [],
   "source": [
    "woscf = tf.estimator.Estimator(model, 'woscf-ckpts', config=tf.estimator.RunConfig(save_summary_steps=2),\n",
    "                             params=hparams)"
   ]
  },
  {
   "cell_type": "markdown",
   "metadata": {},
   "source": [
    "#### Start Tensorboard"
   ]
  },
  {
   "cell_type": "code",
   "execution_count": 12,
   "metadata": {},
   "outputs": [],
   "source": [
    "get_ipython().system_raw(\"start tensorboard --logdir woscf-ckpts --port 6007\")  # Windows\n",
    "# get_ipython().system_raw(\"tensorboard --logdir woscf-ckpts --port 6007 &\")  # Linux"
   ]
  },
  {
   "cell_type": "code",
   "execution_count": 13,
   "metadata": {
    "scrolled": false
   },
   "outputs": [
    {
     "name": "stdout",
     "output_type": "stream",
     "text": [
      "{'accuracy': 0.5043, 'loss': 1.3885775, 'global_step': 20}\n",
      "{'accuracy': 0.5801, 'loss': 1.1778008, 'global_step': 40}\n",
      "{'accuracy': 0.6099, 'loss': 1.1439934, 'global_step': 60}\n",
      "{'accuracy': 0.5785, 'loss': 1.5351887, 'global_step': 80}\n",
      "{'accuracy': 0.5711, 'loss': 1.701782, 'global_step': 100}\n",
      "{'accuracy': 0.5644, 'loss': 1.8049095, 'global_step': 120}\n",
      "{'accuracy': 0.5793, 'loss': 1.8751414, 'global_step': 140}\n",
      "{'accuracy': 0.581, 'loss': 1.8933313, 'global_step': 160}\n",
      "{'accuracy': 0.5866, 'loss': 1.8283887, 'global_step': 180}\n",
      "{'accuracy': 0.6038, 'loss': 1.7691035, 'global_step': 200}\n",
      "{'accuracy': 0.6004, 'loss': 1.8271089, 'global_step': 220}\n",
      "{'accuracy': 0.5978, 'loss': 1.8227904, 'global_step': 240}\n",
      "{'accuracy': 0.5941, 'loss': 1.8485936, 'global_step': 260}\n",
      "{'accuracy': 0.596, 'loss': 1.8362767, 'global_step': 280}\n",
      "{'accuracy': 0.5958, 'loss': 1.900719, 'global_step': 300}\n",
      "{'accuracy': 0.5942, 'loss': 1.9070389, 'global_step': 320}\n",
      "{'accuracy': 0.6057, 'loss': 1.891427, 'global_step': 340}\n",
      "{'accuracy': 0.6077, 'loss': 1.8893273, 'global_step': 360}\n",
      "{'accuracy': 0.6076, 'loss': 1.8931978, 'global_step': 380}\n",
      "{'accuracy': 0.6081, 'loss': 1.8997511, 'global_step': 400}\n",
      "Wall time: 15min 1s\n"
     ]
    }
   ],
   "source": [
    "%%time\n",
    "for i in range(20):\n",
    "    woscf.train(inp_fn)\n",
    "    print(woscf.evaluate(test_inp_fn))"
   ]
  },
  {
   "cell_type": "markdown",
   "metadata": {},
   "source": [
    "## Results\n",
    "#### With Scale and Shift\n",
    "![Graph with scale](images/wscf.png)\n",
    "#### Without Scale and Shift\n",
    "![Graph without scale](images/woscf.png)\n",
    "\n",
    "As we can see, there is no noticeable change in the how the loss changes over training. It is because Batch Normalization is applied after activation function. Hence scale and shift parameters can be completely ignored. It also speeds up training. In this notebook you can see that there is a 30 second decrease in time. Also lesser parameters leads to slimmer models."
   ]
  },
  {
   "cell_type": "markdown",
   "metadata": {},
   "source": [
    "Read more about Batch Normalization in the [original paper](https://arxiv.org/abs/1502.03167). You can try running this notebook in your local system or in [Google Colab](https://drive.google.com/file/d/1d6RkPZoZ1DanTRRJbZGGBo3wdJxW-dag/view?usp=sharing)"
   ]
  }
 ],
 "metadata": {
  "kernelspec": {
   "display_name": "Python 3",
   "language": "python",
   "name": "python3"
  },
  "language_info": {
   "codemirror_mode": {
    "name": "ipython",
    "version": 3
   },
   "file_extension": ".py",
   "mimetype": "text/x-python",
   "name": "python",
   "nbconvert_exporter": "python",
   "pygments_lexer": "ipython3",
   "version": "3.6.5"
  },
  "varInspector": {
   "cols": {
    "lenName": 16,
    "lenType": 16,
    "lenVar": 40
   },
   "kernels_config": {
    "python": {
     "delete_cmd_postfix": "",
     "delete_cmd_prefix": "del ",
     "library": "var_list.py",
     "varRefreshCmd": "print(var_dic_list())"
    },
    "r": {
     "delete_cmd_postfix": ") ",
     "delete_cmd_prefix": "rm(",
     "library": "var_list.r",
     "varRefreshCmd": "cat(var_dic_list()) "
    }
   },
   "types_to_exclude": [
    "module",
    "function",
    "builtin_function_or_method",
    "instance",
    "_Feature"
   ],
   "window_display": false
  }
 },
 "nbformat": 4,
 "nbformat_minor": 2
}
